{
  "nbformat": 4,
  "nbformat_minor": 0,
  "metadata": {
    "colab": {
      "name": "GitHub Test.ipynb",
      "provenance": [],
      "collapsed_sections": []
    },
    "kernelspec": {
      "name": "python3",
      "display_name": "Python 3"
    },
    "language_info": {
      "name": "python"
    }
  },
  "cells": [
    {
      "cell_type": "markdown",
      "metadata": {
        "id": "QQKsB2J1upOP"
      },
      "source": [
        "[![Open In Colab](https://colab.research.google.com/assets/colab-badge.svg)](https://colab.research.google.com/drive/11Hv8q9RUbXgQpPZCjzM8Hg-r65LR3ZET#scrollTo=QQKsB2J1upOP)"
      ]
    },
    {
      "cell_type": "code",
      "metadata": {
        "id": "jvXqFr7azUB4"
      },
      "source": [
        ""
      ],
      "execution_count": null,
      "outputs": []
    },
    {
      "cell_type": "code",
      "metadata": {
        "id": "EvZGlKdJzUio"
      },
      "source": [
        "print('r e t r i e v a l')"
      ],
      "execution_count": null,
      "outputs": []
    },
    {
      "cell_type": "code",
      "metadata": {
        "id": "Ay-xDr4Q4uaE"
      },
      "source": [
        "print('branch')"
      ],
      "execution_count": null,
      "outputs": []
    }
  ]
}